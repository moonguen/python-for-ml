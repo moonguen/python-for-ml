{
 "cells": [
  {
   "cell_type": "markdown",
   "metadata": {
    "collapsed": true
   },
   "source": [
    "## 기본 자료구조"
   ]
  },
  {
   "cell_type": "code",
   "execution_count": 3,
   "metadata": {
    "collapsed": true
   },
   "outputs": [],
   "source": [
    "numbers = [1,3,5,7,9]"
   ]
  },
  {
   "cell_type": "code",
   "execution_count": 7,
   "metadata": {},
   "outputs": [
    {
     "ename": "SyntaxError",
     "evalue": "invalid syntax (<ipython-input-7-3a828fa2c884>, line 1)",
     "output_type": "error",
     "traceback": [
      "\u001b[0;36m  File \u001b[0;32m\"<ipython-input-7-3a828fa2c884>\"\u001b[0;36m, line \u001b[0;32m1\u001b[0m\n\u001b[0;31m    values = [1, 2.0 'Hello', \"world\", [\"a\",\"b\",\"c\"]]\u001b[0m\n\u001b[0m                           ^\u001b[0m\n\u001b[0;31mSyntaxError\u001b[0m\u001b[0;31m:\u001b[0m invalid syntax\n"
     ]
    }
   ],
   "source": [
    "values = [1, 2.0 \"Hello\", \"world\", [\"a\",\"b\",\"c\"]]"
   ]
  },
  {
   "cell_type": "code",
   "execution_count": 5,
   "metadata": {},
   "outputs": [
    {
     "data": {
      "text/plain": [
       "1"
      ]
     },
     "execution_count": 5,
     "metadata": {},
     "output_type": "execute_result"
    }
   ],
   "source": [
    "numbers[0]"
   ]
  },
  {
   "cell_type": "code",
   "execution_count": 6,
   "metadata": {},
   "outputs": [
    {
     "data": {
      "text/plain": [
       "5"
      ]
     },
     "execution_count": 6,
     "metadata": {},
     "output_type": "execute_result"
    }
   ],
   "source": [
    "len(numbers)"
   ]
  },
  {
   "cell_type": "code",
   "execution_count": 8,
   "metadata": {
    "collapsed": true
   },
   "outputs": [],
   "source": [
    "numbers.append(200)"
   ]
  },
  {
   "cell_type": "code",
   "execution_count": 9,
   "metadata": {},
   "outputs": [
    {
     "data": {
      "text/plain": [
       "[1, 3, 5, 7, 9, 200]"
      ]
     },
     "execution_count": 9,
     "metadata": {},
     "output_type": "execute_result"
    }
   ],
   "source": [
    "numbers"
   ]
  },
  {
   "cell_type": "code",
   "execution_count": 10,
   "metadata": {},
   "outputs": [
    {
     "data": {
      "text/plain": [
       "[1, 300, 3, 5, 7, 9, 200]"
      ]
     },
     "execution_count": 10,
     "metadata": {},
     "output_type": "execute_result"
    }
   ],
   "source": [
    "numbers.insert(1,300)\n",
    "numbers"
   ]
  },
  {
   "cell_type": "code",
   "execution_count": 13,
   "metadata": {},
   "outputs": [
    {
     "data": {
      "text/plain": [
       "[1, 300, 3, 50, 500, 500, 5, 7, 9, 200]"
      ]
     },
     "execution_count": 13,
     "metadata": {},
     "output_type": "execute_result"
    }
   ],
   "source": [
    "numbers.insert(3,50)\n",
    "numbers"
   ]
  },
  {
   "cell_type": "code",
   "execution_count": 14,
   "metadata": {
    "collapsed": true
   },
   "outputs": [],
   "source": [
    "import random"
   ]
  },
  {
   "cell_type": "code",
   "execution_count": 18,
   "metadata": {},
   "outputs": [
    {
     "data": {
      "text/plain": [
       "15"
      ]
     },
     "execution_count": 18,
     "metadata": {},
     "output_type": "execute_result"
    }
   ],
   "source": [
    "random.randint(1,45)"
   ]
  },
  {
   "cell_type": "raw",
   "metadata": {},
   "source": []
  },
  {
   "cell_type": "markdown",
   "metadata": {},
   "source": [
    "## Quiz 로또 6자리"
   ]
  },
  {
   "cell_type": "code",
   "execution_count": 24,
   "metadata": {},
   "outputs": [
    {
     "data": {
      "text/plain": [
       "[29, 8, 35, 9, 33]"
      ]
     },
     "execution_count": 24,
     "metadata": {},
     "output_type": "execute_result"
    }
   ],
   "source": [
    "lotto_numbers =[]\n",
    "\n",
    "for i in range(6):\n",
    "    value = random.randint(1,45)\n",
    "    if value not in lotto_numbers:\n",
    "        lotto_numbers.append(value)\n",
    "    \n",
    "lotto_numbers\n",
    "        "
   ]
  },
  {
   "cell_type": "code",
   "execution_count": 25,
   "metadata": {},
   "outputs": [
    {
     "data": {
      "text/plain": [
       "[44, 1, 27, 37, 36, 34]"
      ]
     },
     "execution_count": 25,
     "metadata": {},
     "output_type": "execute_result"
    }
   ],
   "source": [
    "lotto_numbers =[]\n",
    "\n",
    "for i in range(6):\n",
    "    value = random.randint(1,45)\n",
    "    if value not in lotto_numbers:\n",
    "        lotto_numbers.append(value)\n",
    "    if len(lotto_numbers ) == 6:\n",
    "        break\n",
    "        \n",
    "lotto_numbers\n",
    "        "
   ]
  },
  {
   "cell_type": "code",
   "execution_count": 26,
   "metadata": {},
   "outputs": [
    {
     "data": {
      "text/plain": [
       "[10, 3, 5, 7, 5, 9]"
      ]
     },
     "execution_count": 26,
     "metadata": {},
     "output_type": "execute_result"
    }
   ],
   "source": [
    "numbers = [1, 3, 5, 7, 5]\n",
    "numbers[0] = 10\n",
    "numbers.append(9)\n",
    "numbers"
   ]
  },
  {
   "cell_type": "code",
   "execution_count": 27,
   "metadata": {},
   "outputs": [
    {
     "data": {
      "text/plain": [
       "7"
      ]
     },
     "execution_count": 27,
     "metadata": {},
     "output_type": "execute_result"
    }
   ],
   "source": [
    "numbers.pop(3)"
   ]
  },
  {
   "cell_type": "code",
   "execution_count": 28,
   "metadata": {},
   "outputs": [
    {
     "data": {
      "text/plain": [
       "[10, 3, 5, 5, 9]"
      ]
     },
     "execution_count": 28,
     "metadata": {},
     "output_type": "execute_result"
    }
   ],
   "source": [
    "numbers"
   ]
  },
  {
   "cell_type": "code",
   "execution_count": 29,
   "metadata": {},
   "outputs": [
    {
     "data": {
      "text/plain": [
       "[10, 3, 5, 9]"
      ]
     },
     "execution_count": 29,
     "metadata": {},
     "output_type": "execute_result"
    }
   ],
   "source": [
    "numbers.remove(5)\n",
    "numbers"
   ]
  },
  {
   "cell_type": "code",
   "execution_count": 30,
   "metadata": {},
   "outputs": [
    {
     "data": {
      "text/plain": [
       "[10, 3, 9]"
      ]
     },
     "execution_count": 30,
     "metadata": {},
     "output_type": "execute_result"
    }
   ],
   "source": [
    "numbers.remove(5)\n",
    "numbers"
   ]
  },
  {
   "cell_type": "markdown",
   "metadata": {},
   "source": [
    "## Slice"
   ]
  },
  {
   "cell_type": "code",
   "execution_count": 31,
   "metadata": {
    "collapsed": true
   },
   "outputs": [],
   "source": [
    "message = \"Hello world\""
   ]
  },
  {
   "cell_type": "code",
   "execution_count": 32,
   "metadata": {},
   "outputs": [
    {
     "data": {
      "text/plain": [
       "'H'"
      ]
     },
     "execution_count": 32,
     "metadata": {},
     "output_type": "execute_result"
    }
   ],
   "source": [
    "message[0]"
   ]
  },
  {
   "cell_type": "code",
   "execution_count": 33,
   "metadata": {},
   "outputs": [
    {
     "data": {
      "text/plain": [
       "'e'"
      ]
     },
     "execution_count": 33,
     "metadata": {},
     "output_type": "execute_result"
    }
   ],
   "source": [
    "message[1]"
   ]
  },
  {
   "cell_type": "code",
   "execution_count": 36,
   "metadata": {},
   "outputs": [
    {
     "data": {
      "text/plain": [
       "'ello world'"
      ]
     },
     "execution_count": 36,
     "metadata": {},
     "output_type": "execute_result"
    }
   ],
   "source": [
    "message[1:] # 배열주소 뒤 : 을 붙일 경우 그 뒤 방들을 다 불러들임"
   ]
  },
  {
   "cell_type": "code",
   "execution_count": 35,
   "metadata": {},
   "outputs": [
    {
     "data": {
      "text/plain": [
       "'Hello world'"
      ]
     },
     "execution_count": 35,
     "metadata": {},
     "output_type": "execute_result"
    }
   ],
   "source": [
    "message[0:]"
   ]
  },
  {
   "cell_type": "code",
   "execution_count": 37,
   "metadata": {},
   "outputs": [
    {
     "data": {
      "text/plain": [
       "'ello worl'"
      ]
     },
     "execution_count": 37,
     "metadata": {},
     "output_type": "execute_result"
    }
   ],
   "source": [
    "message[1:-1]  #-1을 붙일 경우 마지막 방을 빼고 출력"
   ]
  },
  {
   "cell_type": "code",
   "execution_count": 38,
   "metadata": {},
   "outputs": [
    {
     "data": {
      "text/plain": [
       "'ello wor'"
      ]
     },
     "execution_count": 38,
     "metadata": {},
     "output_type": "execute_result"
    }
   ],
   "source": [
    "message[1:-2]"
   ]
  },
  {
   "cell_type": "code",
   "execution_count": 43,
   "metadata": {},
   "outputs": [
    {
     "data": {
      "text/plain": [
       "'Hlo'"
      ]
     },
     "execution_count": 43,
     "metadata": {},
     "output_type": "execute_result"
    }
   ],
   "source": [
    "message[0:-5:2]"
   ]
  },
  {
   "cell_type": "code",
   "execution_count": 47,
   "metadata": {},
   "outputs": [
    {
     "data": {
      "text/plain": [
       "'dlrow oll'"
      ]
     },
     "execution_count": 47,
     "metadata": {},
     "output_type": "execute_result"
    }
   ],
   "source": [
    "message[-1:1:-1]"
   ]
  },
  {
   "cell_type": "code",
   "execution_count": 48,
   "metadata": {},
   "outputs": [
    {
     "data": {
      "text/plain": [
       "'dlrow olleH'"
      ]
     },
     "execution_count": 48,
     "metadata": {},
     "output_type": "execute_result"
    }
   ],
   "source": [
    "message[::-1]"
   ]
  },
  {
   "cell_type": "code",
   "execution_count": null,
   "metadata": {
    "collapsed": true
   },
   "outputs": [],
   "source": []
  },
  {
   "cell_type": "code",
   "execution_count": 50,
   "metadata": {},
   "outputs": [
    {
     "data": {
      "text/plain": [
       "'helloworld'"
      ]
     },
     "execution_count": 50,
     "metadata": {},
     "output_type": "execute_result"
    }
   ],
   "source": [
    "\"hello\" + \"world\""
   ]
  },
  {
   "cell_type": "code",
   "execution_count": 51,
   "metadata": {},
   "outputs": [
    {
     "data": {
      "text/plain": [
       "[1, 2, 3, 4, 5, 6]"
      ]
     },
     "execution_count": 51,
     "metadata": {},
     "output_type": "execute_result"
    }
   ],
   "source": [
    "[1,2,3,] + [4,5,6]"
   ]
  },
  {
   "cell_type": "code",
   "execution_count": 56,
   "metadata": {},
   "outputs": [
    {
     "data": {
      "text/plain": [
       "[1, 2, 3, 4, 5, 6, 7, 8, 9]"
      ]
     },
     "execution_count": 56,
     "metadata": {},
     "output_type": "execute_result"
    }
   ],
   "source": [
    "n = [1,2,3]\n",
    "u = [4,5,6]\n",
    "m = [7,8,9]\n",
    "n+u+m "
   ]
  },
  {
   "cell_type": "markdown",
   "metadata": {},
   "source": [
    "## list comprehension"
   ]
  },
  {
   "cell_type": "code",
   "execution_count": 57,
   "metadata": {
    "collapsed": true
   },
   "outputs": [],
   "source": [
    "numbers1 = [1, 3, 5, 7]\n",
    "numbers2 = [2, 4, 6 , 8]"
   ]
  },
  {
   "cell_type": "code",
   "execution_count": 60,
   "metadata": {
    "collapsed": true
   },
   "outputs": [],
   "source": [
    "numbers = [1,2,3,4]"
   ]
  },
  {
   "cell_type": "code",
   "execution_count": 62,
   "metadata": {},
   "outputs": [
    {
     "data": {
      "text/plain": [
       "(1, 2, 3, 4)"
      ]
     },
     "execution_count": 62,
     "metadata": {},
     "output_type": "execute_result"
    }
   ],
   "source": [
    "v1,v2,v3,v4 = numbers\n",
    "v1,v2,v3,v4"
   ]
  },
  {
   "cell_type": "code",
   "execution_count": 63,
   "metadata": {},
   "outputs": [
    {
     "name": "stdout",
     "output_type": "stream",
     "text": [
      "1 2\n",
      "3 4\n",
      "5 6\n",
      "7 8\n"
     ]
    }
   ],
   "source": [
    "for (i,j) in zip(numbers1, numbers2):\n",
    "    print(i,j)"
   ]
  },
  {
   "cell_type": "code",
   "execution_count": 64,
   "metadata": {},
   "outputs": [
    {
     "data": {
      "text/plain": [
       "[3, 7, 11, 15]"
      ]
     },
     "execution_count": 64,
     "metadata": {},
     "output_type": "execute_result"
    }
   ],
   "source": [
    "result = []\n",
    "for (i,j) in zip(numbers1, numbers2):\n",
    "    result.append(i+j)\n",
    "result"
   ]
  },
  {
   "cell_type": "code",
   "execution_count": 67,
   "metadata": {},
   "outputs": [
    {
     "data": {
      "text/plain": [
       "[3, 7, 11, 15]"
      ]
     },
     "execution_count": 67,
     "metadata": {},
     "output_type": "execute_result"
    }
   ],
   "source": [
    "[i+j\n",
    "for (i,j) in zip(numbers1,numbers2)]  # for 앞에 변수를 넣어주면 변수에 대하여 for를 실행해주며 값을 넣어준다"
   ]
  },
  {
   "cell_type": "markdown",
   "metadata": {},
   "source": [
    "## 만화 고수"
   ]
  },
  {
   "cell_type": "code",
   "execution_count": 9,
   "metadata": {
    "collapsed": true
   },
   "outputs": [],
   "source": [
    "import os\n",
    "import requests\n",
    "from bs4 import BeautifulSoup\n",
    "\n",
    "comic_url = 'https://comic.naver.com/webtoon/detail.nhn?titleId=662774&no=142&weekday=wed'"
   ]
  },
  {
   "cell_type": "code",
   "execution_count": 14,
   "metadata": {},
   "outputs": [
    {
     "data": {
      "text/plain": [
       "['https://image-comic.pstatic.net/webtoon/662774/142/20180707225814_4b71bd0a142a9bb0cbc9c1bf5f2742a8_IMAG01_1.jpg',\n",
       " 'https://image-comic.pstatic.net/webtoon/662774/142/20180707225814_4b71bd0a142a9bb0cbc9c1bf5f2742a8_IMAG01_2.jpg',\n",
       " 'https://image-comic.pstatic.net/webtoon/662774/142/20180707225814_4b71bd0a142a9bb0cbc9c1bf5f2742a8_IMAG01_3.jpg',\n",
       " 'https://image-comic.pstatic.net/webtoon/662774/142/20180707225814_4b71bd0a142a9bb0cbc9c1bf5f2742a8_IMAG01_4.jpg',\n",
       " 'https://image-comic.pstatic.net/webtoon/662774/142/20180707225814_4b71bd0a142a9bb0cbc9c1bf5f2742a8_IMAG01_5.jpg',\n",
       " 'https://image-comic.pstatic.net/webtoon/662774/142/20180707225814_4b71bd0a142a9bb0cbc9c1bf5f2742a8_IMAG01_6.jpg',\n",
       " 'https://image-comic.pstatic.net/webtoon/662774/142/20180707225814_4b71bd0a142a9bb0cbc9c1bf5f2742a8_IMAG01_7.jpg',\n",
       " 'https://image-comic.pstatic.net/webtoon/662774/142/20180707225814_4b71bd0a142a9bb0cbc9c1bf5f2742a8_IMAG01_8.jpg',\n",
       " 'https://image-comic.pstatic.net/webtoon/662774/142/20180707225814_4b71bd0a142a9bb0cbc9c1bf5f2742a8_IMAG01_9.jpg',\n",
       " 'https://image-comic.pstatic.net/webtoon/662774/142/20180707225814_4b71bd0a142a9bb0cbc9c1bf5f2742a8_IMAG01_10.jpg',\n",
       " 'https://image-comic.pstatic.net/webtoon/662774/142/20180707225814_4b71bd0a142a9bb0cbc9c1bf5f2742a8_IMAG01_11.jpg',\n",
       " 'https://image-comic.pstatic.net/webtoon/662774/142/20180707225814_4b71bd0a142a9bb0cbc9c1bf5f2742a8_IMAG01_12.jpg',\n",
       " 'https://image-comic.pstatic.net/webtoon/662774/142/20180707225814_4b71bd0a142a9bb0cbc9c1bf5f2742a8_IMAG01_13.jpg',\n",
       " 'https://image-comic.pstatic.net/webtoon/662774/142/20180707225814_4b71bd0a142a9bb0cbc9c1bf5f2742a8_IMAG01_14.jpg',\n",
       " 'https://image-comic.pstatic.net/webtoon/662774/142/20180707225814_4b71bd0a142a9bb0cbc9c1bf5f2742a8_IMAG01_15.jpg',\n",
       " 'https://image-comic.pstatic.net/webtoon/662774/142/20180707225814_4b71bd0a142a9bb0cbc9c1bf5f2742a8_IMAG01_16.jpg',\n",
       " 'https://image-comic.pstatic.net/webtoon/662774/142/20180707225814_4b71bd0a142a9bb0cbc9c1bf5f2742a8_IMAG01_17.jpg',\n",
       " 'https://image-comic.pstatic.net/webtoon/662774/142/20180707225814_4b71bd0a142a9bb0cbc9c1bf5f2742a8_IMAG01_18.jpg',\n",
       " 'https://image-comic.pstatic.net/webtoon/662774/142/20180707225814_4b71bd0a142a9bb0cbc9c1bf5f2742a8_IMAG01_19.jpg',\n",
       " 'https://image-comic.pstatic.net/webtoon/662774/142/20180707225814_4b71bd0a142a9bb0cbc9c1bf5f2742a8_IMAG01_20.jpg',\n",
       " 'https://image-comic.pstatic.net/webtoon/662774/142/20180707225814_4b71bd0a142a9bb0cbc9c1bf5f2742a8_IMAG01_21.jpg',\n",
       " 'https://image-comic.pstatic.net/webtoon/662774/142/20180707225814_4b71bd0a142a9bb0cbc9c1bf5f2742a8_IMAG01_22.jpg',\n",
       " 'https://image-comic.pstatic.net/webtoon/662774/142/20180707225814_4b71bd0a142a9bb0cbc9c1bf5f2742a8_IMAG01_23.jpg',\n",
       " 'https://image-comic.pstatic.net/webtoon/662774/142/20180707225814_4b71bd0a142a9bb0cbc9c1bf5f2742a8_IMAG01_24.jpg',\n",
       " 'https://image-comic.pstatic.net/webtoon/662774/142/20180707225814_4b71bd0a142a9bb0cbc9c1bf5f2742a8_IMAG01_25.jpg',\n",
       " 'https://image-comic.pstatic.net/webtoon/662774/142/20180707225814_4b71bd0a142a9bb0cbc9c1bf5f2742a8_IMAG01_26.jpg',\n",
       " 'https://image-comic.pstatic.net/webtoon/662774/142/20180707225814_4b71bd0a142a9bb0cbc9c1bf5f2742a8_IMAG01_27.jpg',\n",
       " 'https://image-comic.pstatic.net/webtoon/662774/142/20180707225814_4b71bd0a142a9bb0cbc9c1bf5f2742a8_IMAG01_28.jpg',\n",
       " 'https://image-comic.pstatic.net/webtoon/662774/142/20180707225814_4b71bd0a142a9bb0cbc9c1bf5f2742a8_IMAG01_29.jpg',\n",
       " 'https://image-comic.pstatic.net/webtoon/662774/142/20180707225814_4b71bd0a142a9bb0cbc9c1bf5f2742a8_IMAG01_30.jpg',\n",
       " 'https://image-comic.pstatic.net/webtoon/662774/142/20180707225814_4b71bd0a142a9bb0cbc9c1bf5f2742a8_IMAG01_31.jpg',\n",
       " 'https://image-comic.pstatic.net/webtoon/662774/142/20180707225814_4b71bd0a142a9bb0cbc9c1bf5f2742a8_IMAG01_32.jpg',\n",
       " 'https://image-comic.pstatic.net/webtoon/662774/142/20180707225814_4b71bd0a142a9bb0cbc9c1bf5f2742a8_IMAG01_33.jpg',\n",
       " 'https://image-comic.pstatic.net/webtoon/662774/142/20180707225814_4b71bd0a142a9bb0cbc9c1bf5f2742a8_IMAG01_34.jpg',\n",
       " 'https://image-comic.pstatic.net/webtoon/662774/142/20180707225814_4b71bd0a142a9bb0cbc9c1bf5f2742a8_IMAG01_35.jpg',\n",
       " 'https://image-comic.pstatic.net/webtoon/662774/142/20180707225814_4b71bd0a142a9bb0cbc9c1bf5f2742a8_IMAG01_36.jpg',\n",
       " 'https://image-comic.pstatic.net/webtoon/662774/142/20180707225814_4b71bd0a142a9bb0cbc9c1bf5f2742a8_IMAG01_37.jpg',\n",
       " 'https://image-comic.pstatic.net/webtoon/662774/142/20180707225814_4b71bd0a142a9bb0cbc9c1bf5f2742a8_IMAG01_38.jpg',\n",
       " 'https://image-comic.pstatic.net/webtoon/662774/142/20180707225814_4b71bd0a142a9bb0cbc9c1bf5f2742a8_IMAG01_39.jpg',\n",
       " 'https://image-comic.pstatic.net/webtoon/662774/142/20180707225814_4b71bd0a142a9bb0cbc9c1bf5f2742a8_IMAG01_40.jpg',\n",
       " 'https://image-comic.pstatic.net/webtoon/662774/142/20180707225814_4b71bd0a142a9bb0cbc9c1bf5f2742a8_IMAG01_41.jpg',\n",
       " 'https://image-comic.pstatic.net/webtoon/662774/142/20180707225814_4b71bd0a142a9bb0cbc9c1bf5f2742a8_IMAG01_42.jpg',\n",
       " 'https://image-comic.pstatic.net/webtoon/662774/142/20180707225814_4b71bd0a142a9bb0cbc9c1bf5f2742a8_IMAG01_43.jpg',\n",
       " 'https://image-comic.pstatic.net/webtoon/662774/142/20180707225814_4b71bd0a142a9bb0cbc9c1bf5f2742a8_IMAG01_44.jpg',\n",
       " 'https://image-comic.pstatic.net/webtoon/662774/142/20180707225814_4b71bd0a142a9bb0cbc9c1bf5f2742a8_IMAG01_45.jpg',\n",
       " 'https://image-comic.pstatic.net/webtoon/662774/142/20180707225814_4b71bd0a142a9bb0cbc9c1bf5f2742a8_IMAG01_46.jpg',\n",
       " 'https://image-comic.pstatic.net/webtoon/662774/142/20180707225814_4b71bd0a142a9bb0cbc9c1bf5f2742a8_IMAG01_47.jpg',\n",
       " 'https://image-comic.pstatic.net/webtoon/662774/142/20180707225814_4b71bd0a142a9bb0cbc9c1bf5f2742a8_IMAG01_48.jpg',\n",
       " 'https://image-comic.pstatic.net/webtoon/662774/142/20180707225814_4b71bd0a142a9bb0cbc9c1bf5f2742a8_IMAG01_49.jpg',\n",
       " 'https://image-comic.pstatic.net/webtoon/662774/142/20180707225814_4b71bd0a142a9bb0cbc9c1bf5f2742a8_IMAG01_50.jpg',\n",
       " 'https://image-comic.pstatic.net/webtoon/662774/142/20180707225814_4b71bd0a142a9bb0cbc9c1bf5f2742a8_IMAG01_51.jpg',\n",
       " 'https://image-comic.pstatic.net/webtoon/662774/142/20180707225814_4b71bd0a142a9bb0cbc9c1bf5f2742a8_IMAG01_52.jpg',\n",
       " 'https://image-comic.pstatic.net/webtoon/662774/142/20180707225814_4b71bd0a142a9bb0cbc9c1bf5f2742a8_IMAG01_53.jpg',\n",
       " 'https://image-comic.pstatic.net/webtoon/662774/142/20180707225814_4b71bd0a142a9bb0cbc9c1bf5f2742a8_IMAG01_54.jpg',\n",
       " 'https://image-comic.pstatic.net/webtoon/662774/142/20180707225814_4b71bd0a142a9bb0cbc9c1bf5f2742a8_IMAG01_55.jpg',\n",
       " 'https://image-comic.pstatic.net/webtoon/662774/142/20180707225814_4b71bd0a142a9bb0cbc9c1bf5f2742a8_IMAG01_56.jpg',\n",
       " 'https://image-comic.pstatic.net/webtoon/662774/142/20180707225814_4b71bd0a142a9bb0cbc9c1bf5f2742a8_IMAG01_57.jpg',\n",
       " 'https://image-comic.pstatic.net/webtoon/662774/142/20180707225814_4b71bd0a142a9bb0cbc9c1bf5f2742a8_IMAG01_58.jpg',\n",
       " 'https://image-comic.pstatic.net/webtoon/662774/142/20180707225814_4b71bd0a142a9bb0cbc9c1bf5f2742a8_IMAG01_59.jpg',\n",
       " 'https://image-comic.pstatic.net/webtoon/662774/142/20180707225814_4b71bd0a142a9bb0cbc9c1bf5f2742a8_IMAG01_60.jpg',\n",
       " 'https://image-comic.pstatic.net/webtoon/662774/142/20180707225814_4b71bd0a142a9bb0cbc9c1bf5f2742a8_IMAG01_61.jpg',\n",
       " 'https://image-comic.pstatic.net/webtoon/662774/142/20180707225814_4b71bd0a142a9bb0cbc9c1bf5f2742a8_IMAG01_62.jpg',\n",
       " 'https://image-comic.pstatic.net/webtoon/662774/142/20180707225814_4b71bd0a142a9bb0cbc9c1bf5f2742a8_IMAG01_63.jpg',\n",
       " 'https://image-comic.pstatic.net/webtoon/662774/142/20180707225814_4b71bd0a142a9bb0cbc9c1bf5f2742a8_IMAG01_64.jpg',\n",
       " 'https://image-comic.pstatic.net/webtoon/662774/142/20180707225814_4b71bd0a142a9bb0cbc9c1bf5f2742a8_IMAG01_65.jpg',\n",
       " 'https://image-comic.pstatic.net/webtoon/662774/142/20180707225814_4b71bd0a142a9bb0cbc9c1bf5f2742a8_IMAG01_66.jpg',\n",
       " 'https://image-comic.pstatic.net/webtoon/662774/142/20180707225814_4b71bd0a142a9bb0cbc9c1bf5f2742a8_IMAG01_67.jpg',\n",
       " 'https://image-comic.pstatic.net/webtoon/662774/142/20180707225814_4b71bd0a142a9bb0cbc9c1bf5f2742a8_IMAG01_68.jpg',\n",
       " 'https://image-comic.pstatic.net/webtoon/662774/142/20180707225814_4b71bd0a142a9bb0cbc9c1bf5f2742a8_IMAG01_69.jpg',\n",
       " 'https://image-comic.pstatic.net/webtoon/662774/142/20180707225814_4b71bd0a142a9bb0cbc9c1bf5f2742a8_IMAG01_70.jpg',\n",
       " 'https://image-comic.pstatic.net/webtoon/662774/142/20180707225814_4b71bd0a142a9bb0cbc9c1bf5f2742a8_IMAG01_71.jpg',\n",
       " 'https://image-comic.pstatic.net/webtoon/662774/142/20180707225814_4b71bd0a142a9bb0cbc9c1bf5f2742a8_IMAG01_72.jpg',\n",
       " 'https://image-comic.pstatic.net/webtoon/662774/142/20180707225814_4b71bd0a142a9bb0cbc9c1bf5f2742a8_IMAG01_73.jpg',\n",
       " 'https://image-comic.pstatic.net/webtoon/662774/142/20180707225814_4b71bd0a142a9bb0cbc9c1bf5f2742a8_IMAG01_74.jpg',\n",
       " 'https://image-comic.pstatic.net/webtoon/662774/142/20180707225814_4b71bd0a142a9bb0cbc9c1bf5f2742a8_IMAG01_75.jpg',\n",
       " 'https://image-comic.pstatic.net/webtoon/662774/142/20180707225814_4b71bd0a142a9bb0cbc9c1bf5f2742a8_IMAG01_76.jpg',\n",
       " 'https://ssl.pstatic.net/static/comic/images/txt_ads.png',\n",
       " 'https://ssl.pstatic.net/static/comic/images/txt_ads.png']"
      ]
     },
     "execution_count": 14,
     "metadata": {},
     "output_type": "execute_result"
    }
   ],
   "source": [
    "res = requests.get(comic_url)   \n",
    "html = res.text\n",
    "soup = BeautifulSoup(html, 'html.parser')\n",
    "\n",
    "image_url_list = []\n",
    "\n",
    "for tag in soup.select('#comic_view_area img'):\n",
    "    try:\n",
    "        image_url = tag['src']\n",
    "        if image_url:\n",
    "            image_url_list.append(image_url)\n",
    "    except KeyError:\n",
    "        pass\n",
    "        \n",
    "image_url_list"
   ]
  },
  {
   "cell_type": "code",
   "execution_count": 15,
   "metadata": {},
   "outputs": [
    {
     "name": "stdout",
     "output_type": "stream",
     "text": [
      "https://image-comic.pstatic.net/webtoon/662774/142/20180707225814_4b71bd0a142a9bb0cbc9c1bf5f2742a8_IMAG01_1.jpg\n",
      "https://image-comic.pstatic.net/webtoon/662774/142/20180707225814_4b71bd0a142a9bb0cbc9c1bf5f2742a8_IMAG01_2.jpg\n",
      "https://image-comic.pstatic.net/webtoon/662774/142/20180707225814_4b71bd0a142a9bb0cbc9c1bf5f2742a8_IMAG01_3.jpg\n",
      "https://image-comic.pstatic.net/webtoon/662774/142/20180707225814_4b71bd0a142a9bb0cbc9c1bf5f2742a8_IMAG01_4.jpg\n",
      "https://image-comic.pstatic.net/webtoon/662774/142/20180707225814_4b71bd0a142a9bb0cbc9c1bf5f2742a8_IMAG01_5.jpg\n",
      "https://image-comic.pstatic.net/webtoon/662774/142/20180707225814_4b71bd0a142a9bb0cbc9c1bf5f2742a8_IMAG01_6.jpg\n",
      "https://image-comic.pstatic.net/webtoon/662774/142/20180707225814_4b71bd0a142a9bb0cbc9c1bf5f2742a8_IMAG01_7.jpg\n",
      "https://image-comic.pstatic.net/webtoon/662774/142/20180707225814_4b71bd0a142a9bb0cbc9c1bf5f2742a8_IMAG01_8.jpg\n",
      "https://image-comic.pstatic.net/webtoon/662774/142/20180707225814_4b71bd0a142a9bb0cbc9c1bf5f2742a8_IMAG01_9.jpg\n",
      "https://image-comic.pstatic.net/webtoon/662774/142/20180707225814_4b71bd0a142a9bb0cbc9c1bf5f2742a8_IMAG01_10.jpg\n",
      "https://image-comic.pstatic.net/webtoon/662774/142/20180707225814_4b71bd0a142a9bb0cbc9c1bf5f2742a8_IMAG01_11.jpg\n",
      "https://image-comic.pstatic.net/webtoon/662774/142/20180707225814_4b71bd0a142a9bb0cbc9c1bf5f2742a8_IMAG01_12.jpg\n",
      "https://image-comic.pstatic.net/webtoon/662774/142/20180707225814_4b71bd0a142a9bb0cbc9c1bf5f2742a8_IMAG01_13.jpg\n",
      "https://image-comic.pstatic.net/webtoon/662774/142/20180707225814_4b71bd0a142a9bb0cbc9c1bf5f2742a8_IMAG01_14.jpg\n",
      "https://image-comic.pstatic.net/webtoon/662774/142/20180707225814_4b71bd0a142a9bb0cbc9c1bf5f2742a8_IMAG01_15.jpg\n",
      "https://image-comic.pstatic.net/webtoon/662774/142/20180707225814_4b71bd0a142a9bb0cbc9c1bf5f2742a8_IMAG01_16.jpg\n",
      "https://image-comic.pstatic.net/webtoon/662774/142/20180707225814_4b71bd0a142a9bb0cbc9c1bf5f2742a8_IMAG01_17.jpg\n",
      "https://image-comic.pstatic.net/webtoon/662774/142/20180707225814_4b71bd0a142a9bb0cbc9c1bf5f2742a8_IMAG01_18.jpg\n",
      "https://image-comic.pstatic.net/webtoon/662774/142/20180707225814_4b71bd0a142a9bb0cbc9c1bf5f2742a8_IMAG01_19.jpg\n",
      "https://image-comic.pstatic.net/webtoon/662774/142/20180707225814_4b71bd0a142a9bb0cbc9c1bf5f2742a8_IMAG01_20.jpg\n",
      "https://image-comic.pstatic.net/webtoon/662774/142/20180707225814_4b71bd0a142a9bb0cbc9c1bf5f2742a8_IMAG01_21.jpg\n",
      "https://image-comic.pstatic.net/webtoon/662774/142/20180707225814_4b71bd0a142a9bb0cbc9c1bf5f2742a8_IMAG01_22.jpg\n",
      "https://image-comic.pstatic.net/webtoon/662774/142/20180707225814_4b71bd0a142a9bb0cbc9c1bf5f2742a8_IMAG01_23.jpg\n",
      "https://image-comic.pstatic.net/webtoon/662774/142/20180707225814_4b71bd0a142a9bb0cbc9c1bf5f2742a8_IMAG01_24.jpg\n",
      "https://image-comic.pstatic.net/webtoon/662774/142/20180707225814_4b71bd0a142a9bb0cbc9c1bf5f2742a8_IMAG01_25.jpg\n",
      "https://image-comic.pstatic.net/webtoon/662774/142/20180707225814_4b71bd0a142a9bb0cbc9c1bf5f2742a8_IMAG01_26.jpg\n",
      "https://image-comic.pstatic.net/webtoon/662774/142/20180707225814_4b71bd0a142a9bb0cbc9c1bf5f2742a8_IMAG01_27.jpg\n",
      "https://image-comic.pstatic.net/webtoon/662774/142/20180707225814_4b71bd0a142a9bb0cbc9c1bf5f2742a8_IMAG01_28.jpg\n",
      "https://image-comic.pstatic.net/webtoon/662774/142/20180707225814_4b71bd0a142a9bb0cbc9c1bf5f2742a8_IMAG01_29.jpg\n",
      "https://image-comic.pstatic.net/webtoon/662774/142/20180707225814_4b71bd0a142a9bb0cbc9c1bf5f2742a8_IMAG01_30.jpg\n",
      "https://image-comic.pstatic.net/webtoon/662774/142/20180707225814_4b71bd0a142a9bb0cbc9c1bf5f2742a8_IMAG01_31.jpg\n",
      "https://image-comic.pstatic.net/webtoon/662774/142/20180707225814_4b71bd0a142a9bb0cbc9c1bf5f2742a8_IMAG01_32.jpg\n",
      "https://image-comic.pstatic.net/webtoon/662774/142/20180707225814_4b71bd0a142a9bb0cbc9c1bf5f2742a8_IMAG01_33.jpg\n",
      "https://image-comic.pstatic.net/webtoon/662774/142/20180707225814_4b71bd0a142a9bb0cbc9c1bf5f2742a8_IMAG01_34.jpg\n",
      "https://image-comic.pstatic.net/webtoon/662774/142/20180707225814_4b71bd0a142a9bb0cbc9c1bf5f2742a8_IMAG01_35.jpg\n",
      "https://image-comic.pstatic.net/webtoon/662774/142/20180707225814_4b71bd0a142a9bb0cbc9c1bf5f2742a8_IMAG01_36.jpg\n",
      "https://image-comic.pstatic.net/webtoon/662774/142/20180707225814_4b71bd0a142a9bb0cbc9c1bf5f2742a8_IMAG01_37.jpg\n",
      "https://image-comic.pstatic.net/webtoon/662774/142/20180707225814_4b71bd0a142a9bb0cbc9c1bf5f2742a8_IMAG01_38.jpg\n",
      "https://image-comic.pstatic.net/webtoon/662774/142/20180707225814_4b71bd0a142a9bb0cbc9c1bf5f2742a8_IMAG01_39.jpg\n",
      "https://image-comic.pstatic.net/webtoon/662774/142/20180707225814_4b71bd0a142a9bb0cbc9c1bf5f2742a8_IMAG01_40.jpg\n",
      "https://image-comic.pstatic.net/webtoon/662774/142/20180707225814_4b71bd0a142a9bb0cbc9c1bf5f2742a8_IMAG01_41.jpg\n",
      "https://image-comic.pstatic.net/webtoon/662774/142/20180707225814_4b71bd0a142a9bb0cbc9c1bf5f2742a8_IMAG01_42.jpg\n",
      "https://image-comic.pstatic.net/webtoon/662774/142/20180707225814_4b71bd0a142a9bb0cbc9c1bf5f2742a8_IMAG01_43.jpg\n",
      "https://image-comic.pstatic.net/webtoon/662774/142/20180707225814_4b71bd0a142a9bb0cbc9c1bf5f2742a8_IMAG01_44.jpg\n",
      "https://image-comic.pstatic.net/webtoon/662774/142/20180707225814_4b71bd0a142a9bb0cbc9c1bf5f2742a8_IMAG01_45.jpg\n",
      "https://image-comic.pstatic.net/webtoon/662774/142/20180707225814_4b71bd0a142a9bb0cbc9c1bf5f2742a8_IMAG01_46.jpg\n",
      "https://image-comic.pstatic.net/webtoon/662774/142/20180707225814_4b71bd0a142a9bb0cbc9c1bf5f2742a8_IMAG01_47.jpg\n",
      "https://image-comic.pstatic.net/webtoon/662774/142/20180707225814_4b71bd0a142a9bb0cbc9c1bf5f2742a8_IMAG01_48.jpg\n",
      "https://image-comic.pstatic.net/webtoon/662774/142/20180707225814_4b71bd0a142a9bb0cbc9c1bf5f2742a8_IMAG01_49.jpg\n",
      "https://image-comic.pstatic.net/webtoon/662774/142/20180707225814_4b71bd0a142a9bb0cbc9c1bf5f2742a8_IMAG01_50.jpg\n",
      "https://image-comic.pstatic.net/webtoon/662774/142/20180707225814_4b71bd0a142a9bb0cbc9c1bf5f2742a8_IMAG01_51.jpg\n",
      "https://image-comic.pstatic.net/webtoon/662774/142/20180707225814_4b71bd0a142a9bb0cbc9c1bf5f2742a8_IMAG01_52.jpg\n",
      "https://image-comic.pstatic.net/webtoon/662774/142/20180707225814_4b71bd0a142a9bb0cbc9c1bf5f2742a8_IMAG01_53.jpg\n",
      "https://image-comic.pstatic.net/webtoon/662774/142/20180707225814_4b71bd0a142a9bb0cbc9c1bf5f2742a8_IMAG01_54.jpg\n",
      "https://image-comic.pstatic.net/webtoon/662774/142/20180707225814_4b71bd0a142a9bb0cbc9c1bf5f2742a8_IMAG01_55.jpg\n",
      "https://image-comic.pstatic.net/webtoon/662774/142/20180707225814_4b71bd0a142a9bb0cbc9c1bf5f2742a8_IMAG01_56.jpg\n",
      "https://image-comic.pstatic.net/webtoon/662774/142/20180707225814_4b71bd0a142a9bb0cbc9c1bf5f2742a8_IMAG01_57.jpg\n",
      "https://image-comic.pstatic.net/webtoon/662774/142/20180707225814_4b71bd0a142a9bb0cbc9c1bf5f2742a8_IMAG01_58.jpg\n",
      "https://image-comic.pstatic.net/webtoon/662774/142/20180707225814_4b71bd0a142a9bb0cbc9c1bf5f2742a8_IMAG01_59.jpg\n",
      "https://image-comic.pstatic.net/webtoon/662774/142/20180707225814_4b71bd0a142a9bb0cbc9c1bf5f2742a8_IMAG01_60.jpg\n",
      "https://image-comic.pstatic.net/webtoon/662774/142/20180707225814_4b71bd0a142a9bb0cbc9c1bf5f2742a8_IMAG01_61.jpg\n",
      "https://image-comic.pstatic.net/webtoon/662774/142/20180707225814_4b71bd0a142a9bb0cbc9c1bf5f2742a8_IMAG01_62.jpg\n",
      "https://image-comic.pstatic.net/webtoon/662774/142/20180707225814_4b71bd0a142a9bb0cbc9c1bf5f2742a8_IMAG01_63.jpg\n",
      "https://image-comic.pstatic.net/webtoon/662774/142/20180707225814_4b71bd0a142a9bb0cbc9c1bf5f2742a8_IMAG01_64.jpg\n",
      "https://image-comic.pstatic.net/webtoon/662774/142/20180707225814_4b71bd0a142a9bb0cbc9c1bf5f2742a8_IMAG01_65.jpg\n",
      "https://image-comic.pstatic.net/webtoon/662774/142/20180707225814_4b71bd0a142a9bb0cbc9c1bf5f2742a8_IMAG01_66.jpg\n",
      "https://image-comic.pstatic.net/webtoon/662774/142/20180707225814_4b71bd0a142a9bb0cbc9c1bf5f2742a8_IMAG01_67.jpg\n",
      "https://image-comic.pstatic.net/webtoon/662774/142/20180707225814_4b71bd0a142a9bb0cbc9c1bf5f2742a8_IMAG01_68.jpg\n",
      "https://image-comic.pstatic.net/webtoon/662774/142/20180707225814_4b71bd0a142a9bb0cbc9c1bf5f2742a8_IMAG01_69.jpg\n",
      "https://image-comic.pstatic.net/webtoon/662774/142/20180707225814_4b71bd0a142a9bb0cbc9c1bf5f2742a8_IMAG01_70.jpg\n",
      "https://image-comic.pstatic.net/webtoon/662774/142/20180707225814_4b71bd0a142a9bb0cbc9c1bf5f2742a8_IMAG01_71.jpg\n",
      "https://image-comic.pstatic.net/webtoon/662774/142/20180707225814_4b71bd0a142a9bb0cbc9c1bf5f2742a8_IMAG01_72.jpg\n",
      "https://image-comic.pstatic.net/webtoon/662774/142/20180707225814_4b71bd0a142a9bb0cbc9c1bf5f2742a8_IMAG01_73.jpg\n",
      "https://image-comic.pstatic.net/webtoon/662774/142/20180707225814_4b71bd0a142a9bb0cbc9c1bf5f2742a8_IMAG01_74.jpg\n",
      "https://image-comic.pstatic.net/webtoon/662774/142/20180707225814_4b71bd0a142a9bb0cbc9c1bf5f2742a8_IMAG01_75.jpg\n",
      "https://image-comic.pstatic.net/webtoon/662774/142/20180707225814_4b71bd0a142a9bb0cbc9c1bf5f2742a8_IMAG01_76.jpg\n"
     ]
    },
    {
     "name": "stdout",
     "output_type": "stream",
     "text": [
      "https://ssl.pstatic.net/static/comic/images/txt_ads.png\n",
      "https://ssl.pstatic.net/static/comic/images/txt_ads.png\n"
     ]
    }
   ],
   "source": [
    "for image_url in image_url_list:\n",
    "    res = requests.get(image_url, headers={'Referer': comic_url})\n",
    "    image_data = res.content\n",
    "    image_name = os.path.basename(image_url)\n",
    "    \n",
    "    print(image_url)\n",
    "    with open(image_name, 'wb') as f:\n",
    "        f.write(image_data)"
   ]
  },
  {
   "cell_type": "code",
   "execution_count": 26,
   "metadata": {},
   "outputs": [
    {
     "data": {
      "text/plain": [
       "{1, 2, 3, 4, 5, 7, 8, 61, 99}"
      ]
     },
     "execution_count": 26,
     "metadata": {},
     "output_type": "execute_result"
    }
   ],
   "source": [
    "set_numbers = {1, 2, 3, 1, 2, 4, 99, 1, 2, 5, 1, 2, 61, 2, 8, 1, 2, 7} \n",
    "set_numbers"
   ]
  },
  {
   "cell_type": "code",
   "execution_count": 27,
   "metadata": {},
   "outputs": [
    {
     "name": "stdout",
     "output_type": "stream",
     "text": [
      "1\n",
      "2\n",
      "99\n",
      "3\n",
      "4\n",
      "5\n",
      "7\n",
      "8\n",
      "61\n"
     ]
    }
   ],
   "source": [
    "for value in set_numbers:\n",
    "    print (value)"
   ]
  },
  {
   "cell_type": "code",
   "execution_count": 24,
   "metadata": {},
   "outputs": [
    {
     "name": "stdout",
     "output_type": "stream",
     "text": [
      "1\n",
      "2\n",
      "3\n",
      "4\n",
      "5\n",
      "7\n",
      "8\n",
      "61\n",
      "99\n"
     ]
    }
   ],
   "source": [
    "for value in sorted(set_numbers):\n",
    "    print (value)"
   ]
  },
  {
   "cell_type": "code",
   "execution_count": 25,
   "metadata": {},
   "outputs": [
    {
     "name": "stdout",
     "output_type": "stream",
     "text": [
      "99\n",
      "61\n",
      "8\n",
      "7\n",
      "5\n",
      "4\n",
      "3\n",
      "2\n",
      "1\n"
     ]
    }
   ],
   "source": [
    "for value in sorted(set_numbers, reverse= True):\n",
    "    print (value)"
   ]
  },
  {
   "cell_type": "code",
   "execution_count": null,
   "metadata": {
    "collapsed": true
   },
   "outputs": [],
   "source": []
  },
  {
   "cell_type": "code",
   "execution_count": 32,
   "metadata": {},
   "outputs": [
    {
     "data": {
      "text/plain": [
       "[1, 2, 3, 4, 5, 6, 7]"
      ]
     },
     "execution_count": 32,
     "metadata": {},
     "output_type": "execute_result"
    }
   ],
   "source": [
    "mylist = [1,2,3,4,5,6,1,2,3,4,4,5,6,7]   # set(list)로 실행시 list를 set으로 변경하여 실행됨 \n",
    "list(set(mylist))"
   ]
  },
  {
   "cell_type": "code",
   "execution_count": null,
   "metadata": {
    "collapsed": true
   },
   "outputs": [],
   "source": []
  },
  {
   "cell_type": "markdown",
   "metadata": {},
   "source": [
    "## 사전(dict)"
   ]
  },
  {
   "cell_type": "code",
   "execution_count": 41,
   "metadata": {
    "collapsed": true
   },
   "outputs": [],
   "source": [
    "학생목록 = [\n",
    "    {'이름' : '김철수', '국어' : 45, '영어' : 90, '수학' : 10,},\n",
    "    {'이름' : '김철수2', '국어' : 65, '영어' : 20, '수학' : 100,},\n",
    "    {'이름' : '김철수3', '국어' : 35, '영어' : 10, '수학' : 10,},\n",
    "    {'이름' : '김철수4', '국어' : 25, '영어' : 60, '수학' : 100,},\n",
    "]"
   ]
  },
  {
   "cell_type": "code",
   "execution_count": 43,
   "metadata": {},
   "outputs": [
    {
     "name": "stdout",
     "output_type": "stream",
     "text": [
      "김철수\n",
      "김철수2\n",
      "김철수3\n",
      "김철수4\n"
     ]
    }
   ],
   "source": [
    "for 학생 in 학생목록 :\n",
    "    print(학생['이름'])"
   ]
  },
  {
   "cell_type": "code",
   "execution_count": 42,
   "metadata": {},
   "outputs": [
    {
     "name": "stdout",
     "output_type": "stream",
     "text": [
      "김철수 48\n",
      "김철수2 61\n",
      "김철수3 18\n",
      "김철수4 61\n"
     ]
    }
   ],
   "source": [
    "for 학생 in 학생목록 :\n",
    "    평균 = (학생['국어'] + 학생['영어'] + 학생['수학']) //3\n",
    "    print(학생['이름'], 평균)"
   ]
  },
  {
   "cell_type": "code",
   "execution_count": 44,
   "metadata": {},
   "outputs": [
    {
     "data": {
      "text/plain": [
       "{'이름': '김철수', '국어': 45, '영어': 90, '수학': 10}"
      ]
     },
     "execution_count": 44,
     "metadata": {},
     "output_type": "execute_result"
    }
   ],
   "source": [
    "철수 = {'이름' : '김철수', '국어' : 45, '영어' : 90, '수학' : 10,}\n",
    "철수"
   ]
  },
  {
   "cell_type": "code",
   "execution_count": 46,
   "metadata": {
    "collapsed": true
   },
   "outputs": [],
   "source": [
    "철수['음악'] = 90"
   ]
  },
  {
   "cell_type": "code",
   "execution_count": 47,
   "metadata": {},
   "outputs": [
    {
     "data": {
      "text/plain": [
       "{'이름': '김철수', '국어': 45, '영어': 90, '수학': 10, '음악': 90}"
      ]
     },
     "execution_count": 47,
     "metadata": {},
     "output_type": "execute_result"
    }
   ],
   "source": [
    "철수"
   ]
  },
  {
   "cell_type": "code",
   "execution_count": 48,
   "metadata": {
    "collapsed": true
   },
   "outputs": [],
   "source": [
    "del 철수['이름']"
   ]
  },
  {
   "cell_type": "code",
   "execution_count": 49,
   "metadata": {},
   "outputs": [
    {
     "data": {
      "text/plain": [
       "{'국어': 45, '영어': 90, '수학': 10, '음악': 90}"
      ]
     },
     "execution_count": 49,
     "metadata": {},
     "output_type": "execute_result"
    }
   ],
   "source": [
    "철수"
   ]
  },
  {
   "cell_type": "markdown",
   "metadata": {},
   "source": [
    "## 함수(Function)"
   ]
  },
  {
   "cell_type": "code",
   "execution_count": 52,
   "metadata": {
    "collapsed": true
   },
   "outputs": [],
   "source": [
    "def musum(x,y):\n",
    "    if x>0:\n",
    "        return x+y+10"
   ]
  },
  {
   "cell_type": "code",
   "execution_count": 54,
   "metadata": {
    "collapsed": true
   },
   "outputs": [],
   "source": [
    "musum(-1,2)"
   ]
  },
  {
   "cell_type": "code",
   "execution_count": 55,
   "metadata": {
    "collapsed": true
   },
   "outputs": [],
   "source": [
    "def mysum(x,y,base):\n",
    "    return x ** y + base"
   ]
  },
  {
   "cell_type": "code",
   "execution_count": 56,
   "metadata": {},
   "outputs": [
    {
     "data": {
      "text/plain": [
       "4"
      ]
     },
     "execution_count": 56,
     "metadata": {},
     "output_type": "execute_result"
    }
   ],
   "source": [
    "mysum(1,2,3)"
   ]
  },
  {
   "cell_type": "code",
   "execution_count": 60,
   "metadata": {},
   "outputs": [
    {
     "data": {
      "text/plain": [
       "4"
      ]
     },
     "execution_count": 60,
     "metadata": {},
     "output_type": "execute_result"
    }
   ],
   "source": [
    "values = [ 1, 2,3]\n",
    "mysum(*values)"
   ]
  },
  {
   "cell_type": "markdown",
   "metadata": {},
   "source": [
    "## 익명 함수"
   ]
  },
  {
   "cell_type": "code",
   "execution_count": 61,
   "metadata": {
    "collapsed": true
   },
   "outputs": [],
   "source": [
    "def mysum(x,y,):\n",
    "    return x+y+10"
   ]
  },
  {
   "cell_type": "code",
   "execution_count": 62,
   "metadata": {
    "collapsed": true
   },
   "outputs": [],
   "source": [
    "fn = mysum"
   ]
  },
  {
   "cell_type": "code",
   "execution_count": 63,
   "metadata": {},
   "outputs": [
    {
     "data": {
      "text/plain": [
       "13"
      ]
     },
     "execution_count": 63,
     "metadata": {},
     "output_type": "execute_result"
    }
   ],
   "source": [
    "fn(1,2)"
   ]
  },
  {
   "cell_type": "code",
   "execution_count": 67,
   "metadata": {},
   "outputs": [
    {
     "data": {
      "text/plain": [
       "13"
      ]
     },
     "execution_count": 67,
     "metadata": {},
     "output_type": "execute_result"
    }
   ],
   "source": [
    "(lambda x, y : x + y + 10)(1,2)"
   ]
  },
  {
   "cell_type": "code",
   "execution_count": 69,
   "metadata": {},
   "outputs": [
    {
     "data": {
      "text/plain": [
       "13"
      ]
     },
     "execution_count": 69,
     "metadata": {},
     "output_type": "execute_result"
    }
   ],
   "source": [
    "mysum = (lambda x, y : x + y + 10 )(1,2)\n",
    "mysum"
   ]
  },
  {
   "cell_type": "markdown",
   "metadata": {
    "collapsed": true
   },
   "source": [
    "## 장식자(Decorators)"
   ]
  },
  {
   "cell_type": "code",
   "execution_count": 1,
   "metadata": {
    "collapsed": true
   },
   "outputs": [],
   "source": [
    "import time"
   ]
  },
  {
   "cell_type": "code",
   "execution_count": 2,
   "metadata": {
    "collapsed": true
   },
   "outputs": [],
   "source": [
    "cached1 = {}\n",
    "\n",
    "def mysum(x, y):\n",
    "    key = (x, y)\n",
    "    if key not in cached1:\n",
    "        time.sleep(3)\n",
    "        cached1[key] = x + y + 10\n",
    "    return cached1[key]\n",
    "\n",
    "cached2 = {}\n",
    "\n",
    "def mymultiply(x, y):\n",
    "    key = (x, y)\n",
    "    if key not in cached2:\n",
    "        time.sleep(3)\n",
    "        cached2[key] = x * y + 10\n",
    "    return cached2[key]\n"
   ]
  },
  {
   "cell_type": "code",
   "execution_count": 3,
   "metadata": {},
   "outputs": [
    {
     "name": "stdout",
     "output_type": "stream",
     "text": [
      "13\n",
      "13\n",
      "13\n",
      "12\n"
     ]
    }
   ],
   "source": [
    "print(mysum(1, 2))\n",
    "print(mysum(1, 2))\n",
    "print(mysum(1, 2))\n",
    "print(mymultiply(1, 2))"
   ]
  },
  {
   "cell_type": "code",
   "execution_count": null,
   "metadata": {},
   "outputs": [],
   "source": []
  },
  {
   "cell_type": "code",
   "execution_count": null,
   "metadata": {},
   "outputs": [],
   "source": []
  },
  {
   "cell_type": "code",
   "execution_count": null,
   "metadata": {
    "collapsed": true
   },
   "outputs": [],
   "source": []
  },
  {
   "cell_type": "code",
   "execution_count": null,
   "metadata": {
    "collapsed": true
   },
   "outputs": [],
   "source": []
  },
  {
   "cell_type": "code",
   "execution_count": null,
   "metadata": {
    "collapsed": true
   },
   "outputs": [],
   "source": []
  }
 ],
 "metadata": {
  "kernelspec": {
   "display_name": "Python 3",
   "language": "python",
   "name": "python3"
  },
  "language_info": {
   "codemirror_mode": {
    "name": "ipython",
    "version": 3
   },
   "file_extension": ".py",
   "mimetype": "text/x-python",
   "name": "python",
   "nbconvert_exporter": "python",
   "pygments_lexer": "ipython3",
   "version": "3.6.5"
  }
 },
 "nbformat": 4,
 "nbformat_minor": 2
}
